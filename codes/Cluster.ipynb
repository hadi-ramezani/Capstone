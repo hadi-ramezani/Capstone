{
 "cells": [
  {
   "cell_type": "code",
   "execution_count": 1,
   "metadata": {
    "collapsed": true
   },
   "outputs": [],
   "source": [
    "import warnings\n",
    "warnings.filterwarnings(\"ignore\", category=DeprecationWarning)"
   ]
  },
  {
   "cell_type": "code",
   "execution_count": 2,
   "metadata": {
    "collapsed": false
   },
   "outputs": [
    {
     "name": "stderr",
     "output_type": "stream",
     "text": [
      "/home/ramezani/anaconda/lib/python2.7/site-packages/pandas/core/computation/__init__.py:18: UserWarning: The installed version of numexpr 2.4.3 is not supported in pandas and will be not be used\n",
      "The minimum supported version is 2.4.6\n",
      "\n",
      "  ver=ver, min_ver=_MIN_NUMEXPR_VERSION), UserWarning)\n"
     ]
    }
   ],
   "source": [
    "# Import some libraries\n",
    "import numpy as np\n",
    "import pandas as pd\n",
    "import gc"
   ]
  },
  {
   "cell_type": "code",
   "execution_count": 3,
   "metadata": {
    "collapsed": false,
    "scrolled": true
   },
   "outputs": [
    {
     "name": "stdout",
     "output_type": "stream",
     "text": [
      "Size of the properties data frame:  (2985217, 3)\n"
     ]
    }
   ],
   "source": [
    "# Read the id_parcel and coordinates into the prop dataframe\n",
    "path = \"../../data/\"\n",
    "prop = pd.read_csv(path + 'renamed_properties_2016.csv', usecols = [\"id_parcel\", \"latitude\", \"longitude\"])\n",
    "print \"Size of the properties data frame: \", prop.shape"
   ]
  },
  {
   "cell_type": "code",
   "execution_count": 4,
   "metadata": {
    "collapsed": false
   },
   "outputs": [],
   "source": [
    "# Read the train data and merge with prop\n",
    "train = pd.read_csv(path + 'renamed_train_2016.csv', usecols = [\"id_parcel\"])\n",
    "train = pd.merge(train, prop, how='left', on='id_parcel')"
   ]
  },
  {
   "cell_type": "code",
   "execution_count": 5,
   "metadata": {
    "collapsed": false
   },
   "outputs": [
    {
     "name": "stdout",
     "output_type": "stream",
     "text": [
      "(2973780, 3)\n"
     ]
    }
   ],
   "source": [
    "# Drop the properties with missing coordinates\n",
    "index = pd.isnull(prop[\"latitude\"])\n",
    "prop = prop[~index]\n",
    "print prop.shape"
   ]
  },
  {
   "cell_type": "code",
   "execution_count": 6,
   "metadata": {
    "collapsed": true
   },
   "outputs": [],
   "source": [
    "prop['latitude'] = prop['latitude'] / 1e6\n",
    "prop['longitude'] = prop['longitude'] / 1e6\n",
    "\n",
    "train['latitude'] = train['latitude'] / 1e6\n",
    "train['longitude'] = train['longitude'] / 1e6"
   ]
  },
  {
   "cell_type": "code",
   "execution_count": 7,
   "metadata": {
    "collapsed": true
   },
   "outputs": [],
   "source": [
    "# Convert the dataframes to numpy arrays\n",
    "X_prop = prop[['latitude','longitude']].as_matrix()\n",
    "X_train = train[['latitude','longitude']].as_matrix()"
   ]
  },
  {
   "cell_type": "code",
   "execution_count": 8,
   "metadata": {
    "collapsed": true
   },
   "outputs": [],
   "source": [
    "from sklearn.cluster import MiniBatchKMeans\n",
    "from sklearn.metrics import silhouette_samples, silhouette_score"
   ]
  },
  {
   "cell_type": "code",
   "execution_count": 15,
   "metadata": {
    "collapsed": true
   },
   "outputs": [],
   "source": [
    "def do_kmean(n_clusters, filename):\n",
    "    '''\n",
    "    takes a list of cluster sizes, and a filename. Creates the clusters and assigns each property \n",
    "    to a cluster, and then write the results into a csv file.\n",
    "    '''\n",
    "    for ii, nn in enumerate(n_clusters):\n",
    "        print \"fitting \" + str(nn) + \" clusters\"         \n",
    "        kmeans = MiniBatchKMeans(n_clusters=nn, random_state = 42, batch_size=1000).fit(X_train)\n",
    "        name = \"cluster\" + str(ii)\n",
    "        labels = kmeans.predict(X_train)\n",
    "        prop[name] = kmeans.predict(X_prop)\n",
    "        score = silhouette_score(X_train, labels, sample_size = 50000, random_state = 0)\n",
    "        print \"silhouette_score for \" + str(nn) + \"clusters is \" + score\n",
    "    \n",
    "    print \"wrtiting the csv file\"\n",
    "    prop.drop(['latitude','longitude'], axis=1).to_csv(path + filename, index=False)"
   ]
  },
  {
   "cell_type": "code",
   "execution_count": null,
   "metadata": {
    "collapsed": false
   },
   "outputs": [],
   "source": [
    "n_clusters = [80, 120, 290, 360, 470, 810]\n",
    "do_kmean(n_clusters, 'n_clusters2.csv')"
   ]
  }
 ],
 "metadata": {
  "anaconda-cloud": {},
  "kernelspec": {
   "display_name": "Python 2",
   "language": "python",
   "name": "python2"
  },
  "language_info": {
   "codemirror_mode": {
    "name": "ipython",
    "version": 2
   },
   "file_extension": ".py",
   "mimetype": "text/x-python",
   "name": "python",
   "nbconvert_exporter": "python",
   "pygments_lexer": "ipython2",
   "version": "2.7.13"
  }
 },
 "nbformat": 4,
 "nbformat_minor": 1
}
